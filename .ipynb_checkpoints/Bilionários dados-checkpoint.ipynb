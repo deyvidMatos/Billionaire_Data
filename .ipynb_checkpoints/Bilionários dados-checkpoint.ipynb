{
 "cells": [
  {
   "cell_type": "markdown",
   "id": "a86150f6",
   "metadata": {},
   "source": [
    "# Introdução\n",
    "Os dados que serão usados, são importados do **Kaggle**, les foram disponibilizados pelo usuário **NIDULA ELGIRIYEWITHANA**, e foi atualizado pela última vez em 30 de setembro de 2023. Serão com eles que iremos inicialmente ver a distribuição de riqueza por tipo industria e sexo.\n",
    "### Metodologia\n",
    "Não terá metodologia definida, pois, será de acordo com o andamento e questionamentos que surgirão."
   ]
  },
  {
   "cell_type": "markdown",
   "id": "bfe950e2",
   "metadata": {},
   "source": [
    "### Importando bibliotecas\n",
    "Primeiramente devemos importar as bibliotecas que iremos usar, como o pandas que usaremos para ler e manipular os dados."
   ]
  },
  {
   "cell_type": "code",
   "execution_count": 1,
   "id": "e76f8075",
   "metadata": {},
   "outputs": [],
   "source": [
    "import pandas as pd"
   ]
  },
  {
   "cell_type": "markdown",
   "id": "f6c1e586",
   "metadata": {},
   "source": [
    "### Iendo o arquivo\n",
    "Depois de importar o pandas fazemos a leitura do arquivo Billionaires Statistics Dataset.csv"
   ]
  },
  {
   "cell_type": "code",
   "execution_count": 2,
   "id": "e0dd6326",
   "metadata": {},
   "outputs": [],
   "source": [
    "df = pd.read_csv('Billionaires Statistics Dataset.csv')"
   ]
  },
  {
   "cell_type": "markdown",
   "id": "9053a369",
   "metadata": {},
   "source": [
    "### Impressão dos dados\n",
    "Imprimiremos as primeiros 5 linhas, assim dando uma analize inicial dos dados."
   ]
  },
  {
   "cell_type": "code",
   "execution_count": 3,
   "id": "339100ba",
   "metadata": {},
   "outputs": [
    {
     "data": {
      "text/html": [
       "<div>\n",
       "<style scoped>\n",
       "    .dataframe tbody tr th:only-of-type {\n",
       "        vertical-align: middle;\n",
       "    }\n",
       "\n",
       "    .dataframe tbody tr th {\n",
       "        vertical-align: top;\n",
       "    }\n",
       "\n",
       "    .dataframe thead th {\n",
       "        text-align: right;\n",
       "    }\n",
       "</style>\n",
       "<table border=\"1\" class=\"dataframe\">\n",
       "  <thead>\n",
       "    <tr style=\"text-align: right;\">\n",
       "      <th></th>\n",
       "      <th>rank</th>\n",
       "      <th>finalWorth</th>\n",
       "      <th>category</th>\n",
       "      <th>personName</th>\n",
       "      <th>age</th>\n",
       "      <th>country</th>\n",
       "      <th>city</th>\n",
       "      <th>source</th>\n",
       "      <th>industries</th>\n",
       "      <th>countryOfCitizenship</th>\n",
       "      <th>...</th>\n",
       "      <th>cpi_change_country</th>\n",
       "      <th>gdp_country</th>\n",
       "      <th>gross_tertiary_education_enrollment</th>\n",
       "      <th>gross_primary_education_enrollment_country</th>\n",
       "      <th>life_expectancy_country</th>\n",
       "      <th>tax_revenue_country_country</th>\n",
       "      <th>total_tax_rate_country</th>\n",
       "      <th>population_country</th>\n",
       "      <th>latitude_country</th>\n",
       "      <th>longitude_country</th>\n",
       "    </tr>\n",
       "  </thead>\n",
       "  <tbody>\n",
       "    <tr>\n",
       "      <th>0</th>\n",
       "      <td>1</td>\n",
       "      <td>211000</td>\n",
       "      <td>Fashion &amp; Retail</td>\n",
       "      <td>Bernard Arnault &amp; family</td>\n",
       "      <td>74.0</td>\n",
       "      <td>France</td>\n",
       "      <td>Paris</td>\n",
       "      <td>LVMH</td>\n",
       "      <td>Fashion &amp; Retail</td>\n",
       "      <td>France</td>\n",
       "      <td>...</td>\n",
       "      <td>1.1</td>\n",
       "      <td>$2,715,518,274,227</td>\n",
       "      <td>65.6</td>\n",
       "      <td>102.5</td>\n",
       "      <td>82.5</td>\n",
       "      <td>24.2</td>\n",
       "      <td>60.7</td>\n",
       "      <td>67059887.0</td>\n",
       "      <td>46.227638</td>\n",
       "      <td>2.213749</td>\n",
       "    </tr>\n",
       "    <tr>\n",
       "      <th>1</th>\n",
       "      <td>2</td>\n",
       "      <td>180000</td>\n",
       "      <td>Automotive</td>\n",
       "      <td>Elon Musk</td>\n",
       "      <td>51.0</td>\n",
       "      <td>United States</td>\n",
       "      <td>Austin</td>\n",
       "      <td>Tesla, SpaceX</td>\n",
       "      <td>Automotive</td>\n",
       "      <td>United States</td>\n",
       "      <td>...</td>\n",
       "      <td>7.5</td>\n",
       "      <td>$21,427,700,000,000</td>\n",
       "      <td>88.2</td>\n",
       "      <td>101.8</td>\n",
       "      <td>78.5</td>\n",
       "      <td>9.6</td>\n",
       "      <td>36.6</td>\n",
       "      <td>328239523.0</td>\n",
       "      <td>37.090240</td>\n",
       "      <td>-95.712891</td>\n",
       "    </tr>\n",
       "    <tr>\n",
       "      <th>2</th>\n",
       "      <td>3</td>\n",
       "      <td>114000</td>\n",
       "      <td>Technology</td>\n",
       "      <td>Jeff Bezos</td>\n",
       "      <td>59.0</td>\n",
       "      <td>United States</td>\n",
       "      <td>Medina</td>\n",
       "      <td>Amazon</td>\n",
       "      <td>Technology</td>\n",
       "      <td>United States</td>\n",
       "      <td>...</td>\n",
       "      <td>7.5</td>\n",
       "      <td>$21,427,700,000,000</td>\n",
       "      <td>88.2</td>\n",
       "      <td>101.8</td>\n",
       "      <td>78.5</td>\n",
       "      <td>9.6</td>\n",
       "      <td>36.6</td>\n",
       "      <td>328239523.0</td>\n",
       "      <td>37.090240</td>\n",
       "      <td>-95.712891</td>\n",
       "    </tr>\n",
       "    <tr>\n",
       "      <th>3</th>\n",
       "      <td>4</td>\n",
       "      <td>107000</td>\n",
       "      <td>Technology</td>\n",
       "      <td>Larry Ellison</td>\n",
       "      <td>78.0</td>\n",
       "      <td>United States</td>\n",
       "      <td>Lanai</td>\n",
       "      <td>Oracle</td>\n",
       "      <td>Technology</td>\n",
       "      <td>United States</td>\n",
       "      <td>...</td>\n",
       "      <td>7.5</td>\n",
       "      <td>$21,427,700,000,000</td>\n",
       "      <td>88.2</td>\n",
       "      <td>101.8</td>\n",
       "      <td>78.5</td>\n",
       "      <td>9.6</td>\n",
       "      <td>36.6</td>\n",
       "      <td>328239523.0</td>\n",
       "      <td>37.090240</td>\n",
       "      <td>-95.712891</td>\n",
       "    </tr>\n",
       "    <tr>\n",
       "      <th>4</th>\n",
       "      <td>5</td>\n",
       "      <td>106000</td>\n",
       "      <td>Finance &amp; Investments</td>\n",
       "      <td>Warren Buffett</td>\n",
       "      <td>92.0</td>\n",
       "      <td>United States</td>\n",
       "      <td>Omaha</td>\n",
       "      <td>Berkshire Hathaway</td>\n",
       "      <td>Finance &amp; Investments</td>\n",
       "      <td>United States</td>\n",
       "      <td>...</td>\n",
       "      <td>7.5</td>\n",
       "      <td>$21,427,700,000,000</td>\n",
       "      <td>88.2</td>\n",
       "      <td>101.8</td>\n",
       "      <td>78.5</td>\n",
       "      <td>9.6</td>\n",
       "      <td>36.6</td>\n",
       "      <td>328239523.0</td>\n",
       "      <td>37.090240</td>\n",
       "      <td>-95.712891</td>\n",
       "    </tr>\n",
       "  </tbody>\n",
       "</table>\n",
       "<p>5 rows × 35 columns</p>\n",
       "</div>"
      ],
      "text/plain": [
       "   rank  finalWorth               category                personName   age  \\\n",
       "0     1      211000       Fashion & Retail  Bernard Arnault & family  74.0   \n",
       "1     2      180000             Automotive                 Elon Musk  51.0   \n",
       "2     3      114000             Technology                Jeff Bezos  59.0   \n",
       "3     4      107000             Technology             Larry Ellison  78.0   \n",
       "4     5      106000  Finance & Investments            Warren Buffett  92.0   \n",
       "\n",
       "         country    city              source             industries  \\\n",
       "0         France   Paris                LVMH       Fashion & Retail   \n",
       "1  United States  Austin       Tesla, SpaceX             Automotive   \n",
       "2  United States  Medina              Amazon             Technology   \n",
       "3  United States   Lanai              Oracle             Technology   \n",
       "4  United States   Omaha  Berkshire Hathaway  Finance & Investments   \n",
       "\n",
       "  countryOfCitizenship  ... cpi_change_country           gdp_country  \\\n",
       "0               France  ...                1.1   $2,715,518,274,227    \n",
       "1        United States  ...                7.5  $21,427,700,000,000    \n",
       "2        United States  ...                7.5  $21,427,700,000,000    \n",
       "3        United States  ...                7.5  $21,427,700,000,000    \n",
       "4        United States  ...                7.5  $21,427,700,000,000    \n",
       "\n",
       "  gross_tertiary_education_enrollment  \\\n",
       "0                                65.6   \n",
       "1                                88.2   \n",
       "2                                88.2   \n",
       "3                                88.2   \n",
       "4                                88.2   \n",
       "\n",
       "  gross_primary_education_enrollment_country life_expectancy_country  \\\n",
       "0                                      102.5                    82.5   \n",
       "1                                      101.8                    78.5   \n",
       "2                                      101.8                    78.5   \n",
       "3                                      101.8                    78.5   \n",
       "4                                      101.8                    78.5   \n",
       "\n",
       "  tax_revenue_country_country total_tax_rate_country population_country  \\\n",
       "0                        24.2                   60.7         67059887.0   \n",
       "1                         9.6                   36.6        328239523.0   \n",
       "2                         9.6                   36.6        328239523.0   \n",
       "3                         9.6                   36.6        328239523.0   \n",
       "4                         9.6                   36.6        328239523.0   \n",
       "\n",
       "  latitude_country longitude_country  \n",
       "0        46.227638          2.213749  \n",
       "1        37.090240        -95.712891  \n",
       "2        37.090240        -95.712891  \n",
       "3        37.090240        -95.712891  \n",
       "4        37.090240        -95.712891  \n",
       "\n",
       "[5 rows x 35 columns]"
      ]
     },
     "execution_count": 3,
     "metadata": {},
     "output_type": "execute_result"
    }
   ],
   "source": [
    "df.head()"
   ]
  },
  {
   "cell_type": "markdown",
   "id": "3f8a9b22",
   "metadata": {},
   "source": [
    "### Visão geral\n",
    "Olhando pela primeira vez pode-se notar que a quantidade total de colunas não pode ser vista devido a quantidade, tendo isso em vista, iremos ver a quantidade total de colunas e linhas, e o nome das colunas."
   ]
  },
  {
   "cell_type": "code",
   "execution_count": 4,
   "id": "1c307616",
   "metadata": {},
   "outputs": [
    {
     "name": "stdout",
     "output_type": "stream",
     "text": [
      "Quantidade de colunas:\t 35 \n",
      "Quantidade de linhas:\t 2640\n"
     ]
    }
   ],
   "source": [
    "print('Quantidade de colunas:\\t',df.shape[1],'\\nQuantidade de linhas:\\t',df.shape[0])"
   ]
  },
  {
   "cell_type": "code",
   "execution_count": 5,
   "id": "48db7c39",
   "metadata": {},
   "outputs": [
    {
     "data": {
      "text/plain": [
       "Index(['rank', 'finalWorth', 'category', 'personName', 'age', 'country',\n",
       "       'city', 'source', 'industries', 'countryOfCitizenship', 'organization',\n",
       "       'selfMade', 'status', 'gender', 'birthDate', 'lastName', 'firstName',\n",
       "       'title', 'date', 'state', 'residenceStateRegion', 'birthYear',\n",
       "       'birthMonth', 'birthDay', 'cpi_country', 'cpi_change_country',\n",
       "       'gdp_country', 'gross_tertiary_education_enrollment',\n",
       "       'gross_primary_education_enrollment_country', 'life_expectancy_country',\n",
       "       'tax_revenue_country_country', 'total_tax_rate_country',\n",
       "       'population_country', 'latitude_country', 'longitude_country'],\n",
       "      dtype='object')"
      ]
     },
     "execution_count": 5,
     "metadata": {},
     "output_type": "execute_result"
    }
   ],
   "source": [
    "df.columns"
   ]
  },
  {
   "cell_type": "markdown",
   "id": "6fc7861e",
   "metadata": {},
   "source": [
    "### Simplificando o Data Frame\n",
    "Para responder a nossa questão inicial não precisamos de algumas colunas como: 'latitude_country', 'longitude_country', pois, elas indicam longitude e latitude, Alem de outras colunas que não usaremos inicialmente. Essa simplificação sera chamada **df_simple**. \n",
    "\n",
    "Para fazer isso seguiremos os seguintes passos:\n",
    "- Selecionar as colunas que queremos\n",
    "- Passar essa seleção para variável nova"
   ]
  },
  {
   "cell_type": "code",
   "execution_count": 6,
   "id": "6eb2f014",
   "metadata": {},
   "outputs": [],
   "source": [
    "df_simple = df[['rank','category', 'personName', 'age', 'country','source', 'status','gender','finalWorth']]"
   ]
  },
  {
   "cell_type": "markdown",
   "id": "41d84576",
   "metadata": {},
   "source": [
    "### Significado das colunas\n",
    "- **rank**: A classificação dos bilionários em termos de riqueza.\n",
    "- **category**: A categoria ou sector em que a empresa do bilionário opera.\n",
    "- **personName**: O nome completo do bilionário.\n",
    "- **age**: A era do bilionário.\n",
    "- **country**: O país em que o bilionário reside.\n",
    "- **source**: A origem da riqueza do bilionário.\n",
    "- **status**: O \"D\" representa os bilionários que se fizeram a si próprios (fundadores/empresários) e o \"U\" indica a riqueza herdada ou não adquirida.\n",
    "- **gender**: O género do bilionário.\n",
    "- **finalWorth**: O património líquido final do bilionário em dólares americanos."
   ]
  },
  {
   "cell_type": "markdown",
   "id": "668063ca",
   "metadata": {},
   "source": [
    "### Impressão da simplificação"
   ]
  },
  {
   "cell_type": "code",
   "execution_count": 7,
   "id": "dee3b370",
   "metadata": {},
   "outputs": [
    {
     "data": {
      "text/html": [
       "<div>\n",
       "<style scoped>\n",
       "    .dataframe tbody tr th:only-of-type {\n",
       "        vertical-align: middle;\n",
       "    }\n",
       "\n",
       "    .dataframe tbody tr th {\n",
       "        vertical-align: top;\n",
       "    }\n",
       "\n",
       "    .dataframe thead th {\n",
       "        text-align: right;\n",
       "    }\n",
       "</style>\n",
       "<table border=\"1\" class=\"dataframe\">\n",
       "  <thead>\n",
       "    <tr style=\"text-align: right;\">\n",
       "      <th></th>\n",
       "      <th>rank</th>\n",
       "      <th>category</th>\n",
       "      <th>personName</th>\n",
       "      <th>age</th>\n",
       "      <th>country</th>\n",
       "      <th>source</th>\n",
       "      <th>status</th>\n",
       "      <th>gender</th>\n",
       "      <th>finalWorth</th>\n",
       "    </tr>\n",
       "  </thead>\n",
       "  <tbody>\n",
       "    <tr>\n",
       "      <th>0</th>\n",
       "      <td>1</td>\n",
       "      <td>Fashion &amp; Retail</td>\n",
       "      <td>Bernard Arnault &amp; family</td>\n",
       "      <td>74.0</td>\n",
       "      <td>France</td>\n",
       "      <td>LVMH</td>\n",
       "      <td>U</td>\n",
       "      <td>M</td>\n",
       "      <td>211000</td>\n",
       "    </tr>\n",
       "    <tr>\n",
       "      <th>1</th>\n",
       "      <td>2</td>\n",
       "      <td>Automotive</td>\n",
       "      <td>Elon Musk</td>\n",
       "      <td>51.0</td>\n",
       "      <td>United States</td>\n",
       "      <td>Tesla, SpaceX</td>\n",
       "      <td>D</td>\n",
       "      <td>M</td>\n",
       "      <td>180000</td>\n",
       "    </tr>\n",
       "    <tr>\n",
       "      <th>2</th>\n",
       "      <td>3</td>\n",
       "      <td>Technology</td>\n",
       "      <td>Jeff Bezos</td>\n",
       "      <td>59.0</td>\n",
       "      <td>United States</td>\n",
       "      <td>Amazon</td>\n",
       "      <td>D</td>\n",
       "      <td>M</td>\n",
       "      <td>114000</td>\n",
       "    </tr>\n",
       "    <tr>\n",
       "      <th>3</th>\n",
       "      <td>4</td>\n",
       "      <td>Technology</td>\n",
       "      <td>Larry Ellison</td>\n",
       "      <td>78.0</td>\n",
       "      <td>United States</td>\n",
       "      <td>Oracle</td>\n",
       "      <td>U</td>\n",
       "      <td>M</td>\n",
       "      <td>107000</td>\n",
       "    </tr>\n",
       "    <tr>\n",
       "      <th>4</th>\n",
       "      <td>5</td>\n",
       "      <td>Finance &amp; Investments</td>\n",
       "      <td>Warren Buffett</td>\n",
       "      <td>92.0</td>\n",
       "      <td>United States</td>\n",
       "      <td>Berkshire Hathaway</td>\n",
       "      <td>D</td>\n",
       "      <td>M</td>\n",
       "      <td>106000</td>\n",
       "    </tr>\n",
       "    <tr>\n",
       "      <th>...</th>\n",
       "      <td>...</td>\n",
       "      <td>...</td>\n",
       "      <td>...</td>\n",
       "      <td>...</td>\n",
       "      <td>...</td>\n",
       "      <td>...</td>\n",
       "      <td>...</td>\n",
       "      <td>...</td>\n",
       "      <td>...</td>\n",
       "    </tr>\n",
       "    <tr>\n",
       "      <th>2635</th>\n",
       "      <td>2540</td>\n",
       "      <td>Healthcare</td>\n",
       "      <td>Yu Rong</td>\n",
       "      <td>51.0</td>\n",
       "      <td>China</td>\n",
       "      <td>Health clinics</td>\n",
       "      <td>D</td>\n",
       "      <td>M</td>\n",
       "      <td>1000</td>\n",
       "    </tr>\n",
       "    <tr>\n",
       "      <th>2636</th>\n",
       "      <td>2540</td>\n",
       "      <td>Food &amp; Beverage</td>\n",
       "      <td>Richard Yuengling, Jr.</td>\n",
       "      <td>80.0</td>\n",
       "      <td>United States</td>\n",
       "      <td>Beer</td>\n",
       "      <td>E</td>\n",
       "      <td>M</td>\n",
       "      <td>1000</td>\n",
       "    </tr>\n",
       "    <tr>\n",
       "      <th>2637</th>\n",
       "      <td>2540</td>\n",
       "      <td>Manufacturing</td>\n",
       "      <td>Zhang Gongyun</td>\n",
       "      <td>60.0</td>\n",
       "      <td>China</td>\n",
       "      <td>Tyre manufacturing machinery</td>\n",
       "      <td>R</td>\n",
       "      <td>M</td>\n",
       "      <td>1000</td>\n",
       "    </tr>\n",
       "    <tr>\n",
       "      <th>2638</th>\n",
       "      <td>2540</td>\n",
       "      <td>Real Estate</td>\n",
       "      <td>Zhang Guiping &amp; family</td>\n",
       "      <td>71.0</td>\n",
       "      <td>China</td>\n",
       "      <td>Real estate</td>\n",
       "      <td>D</td>\n",
       "      <td>M</td>\n",
       "      <td>1000</td>\n",
       "    </tr>\n",
       "    <tr>\n",
       "      <th>2639</th>\n",
       "      <td>2540</td>\n",
       "      <td>Diversified</td>\n",
       "      <td>Inigo Zobel</td>\n",
       "      <td>66.0</td>\n",
       "      <td>Philippines</td>\n",
       "      <td>Diversified</td>\n",
       "      <td>R</td>\n",
       "      <td>M</td>\n",
       "      <td>1000</td>\n",
       "    </tr>\n",
       "  </tbody>\n",
       "</table>\n",
       "<p>2640 rows × 9 columns</p>\n",
       "</div>"
      ],
      "text/plain": [
       "      rank               category                personName   age  \\\n",
       "0        1       Fashion & Retail  Bernard Arnault & family  74.0   \n",
       "1        2             Automotive                 Elon Musk  51.0   \n",
       "2        3             Technology                Jeff Bezos  59.0   \n",
       "3        4             Technology             Larry Ellison  78.0   \n",
       "4        5  Finance & Investments            Warren Buffett  92.0   \n",
       "...    ...                    ...                       ...   ...   \n",
       "2635  2540             Healthcare                   Yu Rong  51.0   \n",
       "2636  2540        Food & Beverage    Richard Yuengling, Jr.  80.0   \n",
       "2637  2540          Manufacturing             Zhang Gongyun  60.0   \n",
       "2638  2540            Real Estate    Zhang Guiping & family  71.0   \n",
       "2639  2540            Diversified               Inigo Zobel  66.0   \n",
       "\n",
       "            country                        source status gender  finalWorth  \n",
       "0            France                          LVMH      U      M      211000  \n",
       "1     United States                 Tesla, SpaceX      D      M      180000  \n",
       "2     United States                        Amazon      D      M      114000  \n",
       "3     United States                        Oracle      U      M      107000  \n",
       "4     United States            Berkshire Hathaway      D      M      106000  \n",
       "...             ...                           ...    ...    ...         ...  \n",
       "2635          China                Health clinics      D      M        1000  \n",
       "2636  United States                          Beer      E      M        1000  \n",
       "2637          China  Tyre manufacturing machinery      R      M        1000  \n",
       "2638          China                   Real estate      D      M        1000  \n",
       "2639    Philippines                   Diversified      R      M        1000  \n",
       "\n",
       "[2640 rows x 9 columns]"
      ]
     },
     "execution_count": 7,
     "metadata": {},
     "output_type": "execute_result"
    }
   ],
   "source": [
    "df_simple"
   ]
  },
  {
   "cell_type": "markdown",
   "id": "6f067ba9",
   "metadata": {},
   "source": [
    "### Comparação dos dados\n",
    "Comparação dos dois data frames, comparando o numero de colunas e linhas."
   ]
  },
  {
   "cell_type": "code",
   "execution_count": 8,
   "id": "16af2af8",
   "metadata": {},
   "outputs": [
    {
     "name": "stdout",
     "output_type": "stream",
     "text": [
      "Sem simplificação \n",
      "Colunas:\t 35 \n",
      "Linhas:\t\t 2640 \n",
      " \n",
      "Com simplificação \n",
      "Colunas:\t 9 \n",
      "Linhas:\t\t 2640\n",
      "\n",
      "Diferença:\t 26\n"
     ]
    }
   ],
   "source": [
    "print('Sem simplificação','\\nColunas:\\t',df.shape[1],'\\nLinhas:\\t\\t',df.shape[0],'\\n',\n",
    "      '\\nCom simplificação','\\nColunas:\\t',df_simple.shape[1],'\\nLinhas:\\t\\t',df_simple.shape[0])\n",
    "print('\\nDiferença:\\t',(df.shape[1] - df_simple.shape[1]))"
   ]
  },
  {
   "cell_type": "markdown",
   "id": "b0fb65e4",
   "metadata": {},
   "source": [
    "### Descrição dos dados\n",
    "Será usado a função describe, ela tem a função de mostrar informações usando os dados numéricos."
   ]
  },
  {
   "cell_type": "code",
   "execution_count": 9,
   "id": "c3a770a0",
   "metadata": {},
   "outputs": [
    {
     "data": {
      "text/html": [
       "<div>\n",
       "<style scoped>\n",
       "    .dataframe tbody tr th:only-of-type {\n",
       "        vertical-align: middle;\n",
       "    }\n",
       "\n",
       "    .dataframe tbody tr th {\n",
       "        vertical-align: top;\n",
       "    }\n",
       "\n",
       "    .dataframe thead th {\n",
       "        text-align: right;\n",
       "    }\n",
       "</style>\n",
       "<table border=\"1\" class=\"dataframe\">\n",
       "  <thead>\n",
       "    <tr style=\"text-align: right;\">\n",
       "      <th></th>\n",
       "      <th>rank</th>\n",
       "      <th>age</th>\n",
       "      <th>finalWorth</th>\n",
       "    </tr>\n",
       "  </thead>\n",
       "  <tbody>\n",
       "    <tr>\n",
       "      <th>count</th>\n",
       "      <td>2640.000000</td>\n",
       "      <td>2575.000000</td>\n",
       "      <td>2640.000000</td>\n",
       "    </tr>\n",
       "    <tr>\n",
       "      <th>mean</th>\n",
       "      <td>1289.159091</td>\n",
       "      <td>65.140194</td>\n",
       "      <td>4623.787879</td>\n",
       "    </tr>\n",
       "    <tr>\n",
       "      <th>std</th>\n",
       "      <td>739.693726</td>\n",
       "      <td>13.258098</td>\n",
       "      <td>9834.240939</td>\n",
       "    </tr>\n",
       "    <tr>\n",
       "      <th>min</th>\n",
       "      <td>1.000000</td>\n",
       "      <td>18.000000</td>\n",
       "      <td>1000.000000</td>\n",
       "    </tr>\n",
       "    <tr>\n",
       "      <th>25%</th>\n",
       "      <td>659.000000</td>\n",
       "      <td>56.000000</td>\n",
       "      <td>1500.000000</td>\n",
       "    </tr>\n",
       "    <tr>\n",
       "      <th>50%</th>\n",
       "      <td>1312.000000</td>\n",
       "      <td>65.000000</td>\n",
       "      <td>2300.000000</td>\n",
       "    </tr>\n",
       "    <tr>\n",
       "      <th>75%</th>\n",
       "      <td>1905.000000</td>\n",
       "      <td>75.000000</td>\n",
       "      <td>4200.000000</td>\n",
       "    </tr>\n",
       "    <tr>\n",
       "      <th>max</th>\n",
       "      <td>2540.000000</td>\n",
       "      <td>101.000000</td>\n",
       "      <td>211000.000000</td>\n",
       "    </tr>\n",
       "  </tbody>\n",
       "</table>\n",
       "</div>"
      ],
      "text/plain": [
       "              rank          age     finalWorth\n",
       "count  2640.000000  2575.000000    2640.000000\n",
       "mean   1289.159091    65.140194    4623.787879\n",
       "std     739.693726    13.258098    9834.240939\n",
       "min       1.000000    18.000000    1000.000000\n",
       "25%     659.000000    56.000000    1500.000000\n",
       "50%    1312.000000    65.000000    2300.000000\n",
       "75%    1905.000000    75.000000    4200.000000\n",
       "max    2540.000000   101.000000  211000.000000"
      ]
     },
     "execution_count": 9,
     "metadata": {},
     "output_type": "execute_result"
    }
   ],
   "source": [
    "df_simple.describe()"
   ]
  },
  {
   "cell_type": "markdown",
   "id": "80417562",
   "metadata": {},
   "source": [
    "**Significado da descrição:**\n",
    "- **count**: Fas soma das quantidade dos valores, porem, não conta valores nulos. \n",
    "- **mean**: É a medía dos valores.\n",
    "- **std**: É o desvio padrão.\n",
    "- **min**: O valor minimo existente.\n",
    "- **25%**: É o valor que esta no meio entre o valor minimo e a mediana\n",
    "- **50%**: É a mediana, ou seja, o valor que esta no meio entre a duas estremidades\n",
    "- **75%**: É o valor que esta no meio entre a mediana eo maximo\n",
    "- **max**: O valor maximo."
   ]
  },
  {
   "cell_type": "markdown",
   "id": "4b1664e1",
   "metadata": {},
   "source": [
    "A quantidade de linhas existente é 2460, porém, na coluna **age** de acordo com a função **describe()** na linha **count** tem somente 2575 linhas, Porque isso ocorre? Isso ocorre pois existem valores nulos, vejamos:"
   ]
  },
  {
   "cell_type": "code",
   "execution_count": 10,
   "id": "0891d5fb",
   "metadata": {},
   "outputs": [
    {
     "data": {
      "text/plain": [
       "65"
      ]
     },
     "execution_count": 10,
     "metadata": {},
     "output_type": "execute_result"
    }
   ],
   "source": [
    "sum(df_simple['age'].isnull())"
   ]
  },
  {
   "cell_type": "markdown",
   "id": "f4505be5",
   "metadata": {},
   "source": [
    "acima foi feito uma soma dos valores nulos existentes."
   ]
  },
  {
   "cell_type": "markdown",
   "id": "78d92cab",
   "metadata": {},
   "source": [
    "**Imprimindo valores nulos** \n",
    "abaixo esta empreço onde os valores de **age** são nulos e mostra as quantidades de colunas e igual a 65."
   ]
  },
  {
   "cell_type": "code",
   "execution_count": 11,
   "id": "8e2b0221",
   "metadata": {},
   "outputs": [
    {
     "data": {
      "text/html": [
       "<div>\n",
       "<style scoped>\n",
       "    .dataframe tbody tr th:only-of-type {\n",
       "        vertical-align: middle;\n",
       "    }\n",
       "\n",
       "    .dataframe tbody tr th {\n",
       "        vertical-align: top;\n",
       "    }\n",
       "\n",
       "    .dataframe thead th {\n",
       "        text-align: right;\n",
       "    }\n",
       "</style>\n",
       "<table border=\"1\" class=\"dataframe\">\n",
       "  <thead>\n",
       "    <tr style=\"text-align: right;\">\n",
       "      <th></th>\n",
       "      <th>rank</th>\n",
       "      <th>category</th>\n",
       "      <th>personName</th>\n",
       "      <th>age</th>\n",
       "      <th>country</th>\n",
       "      <th>source</th>\n",
       "      <th>status</th>\n",
       "      <th>gender</th>\n",
       "      <th>finalWorth</th>\n",
       "    </tr>\n",
       "  </thead>\n",
       "  <tbody>\n",
       "    <tr>\n",
       "      <th>107</th>\n",
       "      <td>108</td>\n",
       "      <td>Fashion &amp; Retail</td>\n",
       "      <td>Karl Albrecht Jr. &amp; family</td>\n",
       "      <td>NaN</td>\n",
       "      <td>Germany</td>\n",
       "      <td>Supermarkets</td>\n",
       "      <td>Split Family Fortune</td>\n",
       "      <td>M</td>\n",
       "      <td>15800</td>\n",
       "    </tr>\n",
       "    <tr>\n",
       "      <th>108</th>\n",
       "      <td>108</td>\n",
       "      <td>Fashion &amp; Retail</td>\n",
       "      <td>Beate Heister</td>\n",
       "      <td>NaN</td>\n",
       "      <td>NaN</td>\n",
       "      <td>Supermarkets</td>\n",
       "      <td>Split Family Fortune</td>\n",
       "      <td>F</td>\n",
       "      <td>15800</td>\n",
       "    </tr>\n",
       "    <tr>\n",
       "      <th>247</th>\n",
       "      <td>246</td>\n",
       "      <td>Finance &amp; Investments</td>\n",
       "      <td>Francine von Finck &amp; family</td>\n",
       "      <td>NaN</td>\n",
       "      <td>Switzerland</td>\n",
       "      <td>Investments</td>\n",
       "      <td>D</td>\n",
       "      <td>F</td>\n",
       "      <td>8300</td>\n",
       "    </tr>\n",
       "    <tr>\n",
       "      <th>550</th>\n",
       "      <td>534</td>\n",
       "      <td>Real Estate</td>\n",
       "      <td>Zhu Yan &amp; family</td>\n",
       "      <td>NaN</td>\n",
       "      <td>China</td>\n",
       "      <td>Real estate</td>\n",
       "      <td>U</td>\n",
       "      <td>F</td>\n",
       "      <td>5000</td>\n",
       "    </tr>\n",
       "    <tr>\n",
       "      <th>554</th>\n",
       "      <td>552</td>\n",
       "      <td>Technology</td>\n",
       "      <td>Marcos Galperin</td>\n",
       "      <td>NaN</td>\n",
       "      <td>Argentina</td>\n",
       "      <td>E-commerce</td>\n",
       "      <td>U</td>\n",
       "      <td>M</td>\n",
       "      <td>4900</td>\n",
       "    </tr>\n",
       "    <tr>\n",
       "      <th>...</th>\n",
       "      <td>...</td>\n",
       "      <td>...</td>\n",
       "      <td>...</td>\n",
       "      <td>...</td>\n",
       "      <td>...</td>\n",
       "      <td>...</td>\n",
       "      <td>...</td>\n",
       "      <td>...</td>\n",
       "      <td>...</td>\n",
       "    </tr>\n",
       "    <tr>\n",
       "      <th>2452</th>\n",
       "      <td>2405</td>\n",
       "      <td>Finance &amp; Investments</td>\n",
       "      <td>Christian Herz</td>\n",
       "      <td>NaN</td>\n",
       "      <td>Germany</td>\n",
       "      <td>Coffee</td>\n",
       "      <td>E</td>\n",
       "      <td>M</td>\n",
       "      <td>1100</td>\n",
       "    </tr>\n",
       "    <tr>\n",
       "      <th>2453</th>\n",
       "      <td>2405</td>\n",
       "      <td>Finance &amp; Investments</td>\n",
       "      <td>Michaela Herz</td>\n",
       "      <td>NaN</td>\n",
       "      <td>Germany</td>\n",
       "      <td>Coffee</td>\n",
       "      <td>E</td>\n",
       "      <td>F</td>\n",
       "      <td>1100</td>\n",
       "    </tr>\n",
       "    <tr>\n",
       "      <th>2550</th>\n",
       "      <td>2540</td>\n",
       "      <td>Logistics</td>\n",
       "      <td>Chang Kuo-Ming</td>\n",
       "      <td>NaN</td>\n",
       "      <td>Taiwan</td>\n",
       "      <td>Transportation</td>\n",
       "      <td>D</td>\n",
       "      <td>M</td>\n",
       "      <td>1000</td>\n",
       "    </tr>\n",
       "    <tr>\n",
       "      <th>2603</th>\n",
       "      <td>2540</td>\n",
       "      <td>Manufacturing</td>\n",
       "      <td>Gabriella Meister</td>\n",
       "      <td>NaN</td>\n",
       "      <td>Germany</td>\n",
       "      <td>Appliances</td>\n",
       "      <td>D</td>\n",
       "      <td>F</td>\n",
       "      <td>1000</td>\n",
       "    </tr>\n",
       "    <tr>\n",
       "      <th>2609</th>\n",
       "      <td>2540</td>\n",
       "      <td>Fashion &amp; Retail</td>\n",
       "      <td>Réal Plourde</td>\n",
       "      <td>NaN</td>\n",
       "      <td>Canada</td>\n",
       "      <td>Convenience stores</td>\n",
       "      <td>N</td>\n",
       "      <td>M</td>\n",
       "      <td>1000</td>\n",
       "    </tr>\n",
       "  </tbody>\n",
       "</table>\n",
       "<p>65 rows × 9 columns</p>\n",
       "</div>"
      ],
      "text/plain": [
       "      rank               category                   personName  age  \\\n",
       "107    108       Fashion & Retail   Karl Albrecht Jr. & family  NaN   \n",
       "108    108       Fashion & Retail                Beate Heister  NaN   \n",
       "247    246  Finance & Investments  Francine von Finck & family  NaN   \n",
       "550    534            Real Estate             Zhu Yan & family  NaN   \n",
       "554    552             Technology              Marcos Galperin  NaN   \n",
       "...    ...                    ...                          ...  ...   \n",
       "2452  2405  Finance & Investments               Christian Herz  NaN   \n",
       "2453  2405  Finance & Investments                Michaela Herz  NaN   \n",
       "2550  2540              Logistics               Chang Kuo-Ming  NaN   \n",
       "2603  2540          Manufacturing            Gabriella Meister  NaN   \n",
       "2609  2540       Fashion & Retail                 Réal Plourde  NaN   \n",
       "\n",
       "          country              source                status gender  finalWorth  \n",
       "107       Germany        Supermarkets  Split Family Fortune      M       15800  \n",
       "108           NaN        Supermarkets  Split Family Fortune      F       15800  \n",
       "247   Switzerland         Investments                     D      F        8300  \n",
       "550         China         Real estate                     U      F        5000  \n",
       "554     Argentina          E-commerce                     U      M        4900  \n",
       "...           ...                 ...                   ...    ...         ...  \n",
       "2452      Germany              Coffee                     E      M        1100  \n",
       "2453      Germany              Coffee                     E      F        1100  \n",
       "2550       Taiwan      Transportation                     D      M        1000  \n",
       "2603      Germany          Appliances                     D      F        1000  \n",
       "2609       Canada  Convenience stores                     N      M        1000  \n",
       "\n",
       "[65 rows x 9 columns]"
      ]
     },
     "execution_count": 11,
     "metadata": {},
     "output_type": "execute_result"
    }
   ],
   "source": [
    "df_simple[df_simple['age'].isnull()]"
   ]
  },
  {
   "cell_type": "markdown",
   "id": "2cdc330a",
   "metadata": {},
   "source": [
    "### tratando valores\n",
    "Valores nulos podem ser tratados de acordo com a sua necessidade. Para a nossa analise basta substituir eles pela mediana de idade dos bilionarios ja que assim o seu valor não interferira nos nossos calculos, pois, temos mais de duas mil linhas, então substituir não mudara significamente o resultado final."
   ]
  },
  {
   "cell_type": "markdown",
   "id": "99bca82a",
   "metadata": {},
   "source": [
    "**Substituindo os valores nulos**\n",
    "\n",
    "irei substituir os valores nulos da coluna age(idade) pela idade mediana. Mudaremos pela mediana, já que, pela media traria um valor \"quebrado\" (ex: 65,3)."
   ]
  },
  {
   "cell_type": "code",
   "execution_count": 12,
   "id": "dcadf180",
   "metadata": {},
   "outputs": [
    {
     "data": {
      "text/plain": [
       "65.0"
      ]
     },
     "execution_count": 12,
     "metadata": {},
     "output_type": "execute_result"
    }
   ],
   "source": [
    "#mediana dos valores da coluna \"age\"\n",
    "df_simple['age'].median()"
   ]
  },
  {
   "cell_type": "code",
   "execution_count": 13,
   "id": "ecb23819",
   "metadata": {},
   "outputs": [],
   "source": [
    "df_simple = df_simple.fillna(df_simple['age'].median())"
   ]
  },
  {
   "cell_type": "markdown",
   "id": "643a20c6",
   "metadata": {},
   "source": [
    "Agora verificamos se ainda tem-se valores nulos"
   ]
  },
  {
   "cell_type": "code",
   "execution_count": 14,
   "id": "9ca542d6",
   "metadata": {},
   "outputs": [
    {
     "data": {
      "text/html": [
       "<div>\n",
       "<style scoped>\n",
       "    .dataframe tbody tr th:only-of-type {\n",
       "        vertical-align: middle;\n",
       "    }\n",
       "\n",
       "    .dataframe tbody tr th {\n",
       "        vertical-align: top;\n",
       "    }\n",
       "\n",
       "    .dataframe thead th {\n",
       "        text-align: right;\n",
       "    }\n",
       "</style>\n",
       "<table border=\"1\" class=\"dataframe\">\n",
       "  <thead>\n",
       "    <tr style=\"text-align: right;\">\n",
       "      <th></th>\n",
       "      <th>rank</th>\n",
       "      <th>category</th>\n",
       "      <th>personName</th>\n",
       "      <th>age</th>\n",
       "      <th>country</th>\n",
       "      <th>source</th>\n",
       "      <th>status</th>\n",
       "      <th>gender</th>\n",
       "      <th>finalWorth</th>\n",
       "    </tr>\n",
       "  </thead>\n",
       "  <tbody>\n",
       "  </tbody>\n",
       "</table>\n",
       "</div>"
      ],
      "text/plain": [
       "Empty DataFrame\n",
       "Columns: [rank, category, personName, age, country, source, status, gender, finalWorth]\n",
       "Index: []"
      ]
     },
     "execution_count": 14,
     "metadata": {},
     "output_type": "execute_result"
    }
   ],
   "source": [
    "df_simple[df_simple['age'].isnull()]"
   ]
  },
  {
   "cell_type": "code",
   "execution_count": 15,
   "id": "2d04896f",
   "metadata": {},
   "outputs": [
    {
     "data": {
      "text/plain": [
       "0"
      ]
     },
     "execution_count": 15,
     "metadata": {},
     "output_type": "execute_result"
    }
   ],
   "source": [
    "sum(df_simple['age'].isnull())"
   ]
  },
  {
   "cell_type": "code",
   "execution_count": 16,
   "id": "84b355f9",
   "metadata": {},
   "outputs": [
    {
     "data": {
      "text/html": [
       "<div>\n",
       "<style scoped>\n",
       "    .dataframe tbody tr th:only-of-type {\n",
       "        vertical-align: middle;\n",
       "    }\n",
       "\n",
       "    .dataframe tbody tr th {\n",
       "        vertical-align: top;\n",
       "    }\n",
       "\n",
       "    .dataframe thead th {\n",
       "        text-align: right;\n",
       "    }\n",
       "</style>\n",
       "<table border=\"1\" class=\"dataframe\">\n",
       "  <thead>\n",
       "    <tr style=\"text-align: right;\">\n",
       "      <th></th>\n",
       "      <th>rank</th>\n",
       "      <th>category</th>\n",
       "      <th>personName</th>\n",
       "      <th>age</th>\n",
       "      <th>country</th>\n",
       "      <th>source</th>\n",
       "      <th>status</th>\n",
       "      <th>gender</th>\n",
       "      <th>finalWorth</th>\n",
       "    </tr>\n",
       "  </thead>\n",
       "  <tbody>\n",
       "    <tr>\n",
       "      <th>107</th>\n",
       "      <td>108</td>\n",
       "      <td>Fashion &amp; Retail</td>\n",
       "      <td>Karl Albrecht Jr. &amp; family</td>\n",
       "      <td>65.0</td>\n",
       "      <td>Germany</td>\n",
       "      <td>Supermarkets</td>\n",
       "      <td>Split Family Fortune</td>\n",
       "      <td>M</td>\n",
       "      <td>15800</td>\n",
       "    </tr>\n",
       "  </tbody>\n",
       "</table>\n",
       "</div>"
      ],
      "text/plain": [
       "     rank          category                  personName   age  country  \\\n",
       "107   108  Fashion & Retail  Karl Albrecht Jr. & family  65.0  Germany   \n",
       "\n",
       "           source                status gender  finalWorth  \n",
       "107  Supermarkets  Split Family Fortune      M       15800  "
      ]
     },
     "execution_count": 16,
     "metadata": {},
     "output_type": "execute_result"
    }
   ],
   "source": [
    "#usando rank para imprimir onde tinham valores nulos\n",
    "df_simple[df_simple['rank'] == 108]. head(1)"
   ]
  },
  {
   "cell_type": "markdown",
   "id": "256018be",
   "metadata": {},
   "source": [
    "Pode-se observar que não se tem apenas os valores U e D, como deveria ser, porem também tem mais 4 valores usado:"
   ]
  },
  {
   "cell_type": "markdown",
   "id": "ace31fc4",
   "metadata": {},
   "source": [
    "Após tratar valores nulos podemos começar a imprimir e analisar visualmente como os dados estão."
   ]
  },
  {
   "cell_type": "markdown",
   "id": "62c1b1c1",
   "metadata": {},
   "source": [
    "### Imprimindo gráficos\n",
    "Para imprimir os gráficos precisamos primeiramente importar a biblioteca matplotlib, após sua importação, começaremos imprimindo gráficos. Além da biblioteca dos gráficos será usado a biblioteca numpy, que é focada em usos matemáticos."
   ]
  },
  {
   "cell_type": "code",
   "execution_count": 18,
   "id": "cdfe5bc2",
   "metadata": {},
   "outputs": [],
   "source": [
    "import matplotlib.pyplot as plt\n",
    "import numpy as np"
   ]
  },
  {
   "cell_type": "markdown",
   "id": "56ef03e7",
   "metadata": {},
   "source": [
    "**Gráficos baseados em gênero**\n",
    "\n",
    "Nesse gráfico tem a riqueza do homem mais rico e da mulher mais rica"
   ]
  },
  {
   "cell_type": "code",
   "execution_count": 119,
   "id": "93925abb",
   "metadata": {
    "scrolled": false
   },
   "outputs": [
    {
     "data": {
      "image/png": "[encoded data removed]",
      "text/plain": [
       "<Figure size 640x480 with 1 Axes>"
      ]
     },
     "metadata": {},
     "output_type": "display_data"
    }
   ],
   "source": [
    "#cores:\n",
    "#azul = #86A3B8\n",
    "#roza = #FFC4C4\n",
    "\n",
    "valorMasculino = df_simple.groupby('gender')['finalWorth'].max().index[1]\n",
    "finalWorthMasculino = df_simple.groupby('gender')['finalWorth'].max().values[1]\n",
    "valorFeminino =  df_simple.groupby('gender')['finalWorth'].max().index[0]\n",
    "finalWorthFeminino = df_simple.groupby('gender')['finalWorth'].max().values[0]\n",
    "\n",
    "fig, ax = plt.subplots()\n",
    "ax.bar(valorMasculino, finalWorthMasculino, label='M-Masculino',color='#86A3B8')\n",
    "ax.bar(valorFeminino,finalWorthFeminino, label='F-Feminino',color='#FFC4C4')\n",
    "\n",
    "ax.yaxis.set_visible(False)\n",
    "ax.spines['top'].set_visible(False)\n",
    "ax.spines['right'].set_visible(False)\n",
    "ax.spines['left'].set_visible(False)\n",
    "\n",
    "ax.annotate((str(finalWorthFeminino) + ' M'),\n",
    "            xy=(1,(finalWorthFeminino - 10500)),ha='center', fontsize=12, fontweight='bold', color='w')\n",
    "ax.annotate((str(finalWorthMasculino)+' M'),\n",
    "            xy=(0,(finalWorthMasculino - 10500)),ha='center', fontsize=12, fontweight='bold', color='w')\n",
    "\n",
    "plt.title('género X Riqueza')\n",
    "\n",
    "plt.show()"
   ]
  },
  {
   "cell_type": "markdown",
   "id": "2ebe0dd2",
   "metadata": {},
   "source": [
    "Pode-se observar a diferença entre os dois mais ricos"
   ]
  },
  {
   "cell_type": "code",
   "execution_count": 118,
   "id": "42960401",
   "metadata": {
    "scrolled": false
   },
   "outputs": [
    {
     "data": {
      "image/png": "[encoded data removed]",
      "text/plain": [
       "<Figure size 640x480 with 1 Axes>"
      ]
     },
     "metadata": {},
     "output_type": "display_data"
    }
   ],
   "source": [
    "totalGenero = df_simple['gender'].value_counts()\n",
    "\n",
    "fig, ax = plt.subplots()\n",
    "ax.pie(totalGenero, labels=totalGenero.index, autopct='%1.1f%%', colors=['#86A3B8', '#FFC4C4'], textprops=dict(color=\"w\"))\n",
    "\n",
    "ax.set_title(\"Distribuição por género\")\n",
    "ax.legend(title=\"género\")\n",
    "\n",
    "plt.show()"
   ]
  },
  {
   "cell_type": "markdown",
   "id": "9ea7d171",
   "metadata": {},
   "source": [
    "Tem-se muito mais homens ricos do que mulheres ricas."
   ]
  },
  {
   "cell_type": "markdown",
   "id": "c8fd383e",
   "metadata": {},
   "source": [
    "**Imprimindo outros graficos**\n",
    "\n",
    "Graficos apenas para demontrar diferentes dados que podem ser usados como:"
   ]
  },
  {
   "cell_type": "markdown",
   "id": "e6d5f608",
   "metadata": {},
   "source": [
    "- Distribuição da quantidade bilionários de acordo com os seus países."
   ]
  },
  {
   "cell_type": "code",
   "execution_count": 117,
   "id": "95edcf96",
   "metadata": {
    "scrolled": false
   },
   "outputs": [
    {
     "data": {
      "image/png": "[encoded data removed]",
      "text/plain": [
       "<Figure size 1000x500 with 1 Axes>"
      ]
     },
     "metadata": {},
     "output_type": "display_data"
    }
   ],
   "source": [
    "top10Paises = df_simple.country.value_counts().head(10)\n",
    "\n",
    "fig, ax = plt.subplots(figsize=(10, 5))\n",
    "ax.barh(top10Paises.index,top10Paises.values, color='#86A3B8')\n",
    "\n",
    "ax.set_title('Os 10 países com mais bilionários')\n",
    "\n",
    "for i in np.arange(0,10):\n",
    "    ax.annotate(top10Paises.values[i],(top10Paises.values[i] + 10,i), va='center', fontsize=11)\n",
    "    \n",
    "ax.xaxis.set_visible(False)\n",
    "ax.spines['top'].set_visible(False)\n",
    "ax.spines['right'].set_visible(False)\n",
    "ax.spines['bottom'].set_visible(False)\n",
    "\n",
    "ax.invert_yaxis()\n",
    "\n",
    "plt.show()"
   ]
  },
  {
   "cell_type": "markdown",
   "id": "5ca51c75",
   "metadata": {},
   "source": [
    "- As categorias usadas pelos 100 mais ricos."
   ]
  },
  {
   "cell_type": "code",
   "execution_count": 106,
   "id": "6effe63b",
   "metadata": {},
   "outputs": [
    {
     "data": {
      "image/png": "[encoded data removed]",
      "text/plain": [
       "<Figure size 1000x500 with 1 Axes>"
      ]
     },
     "metadata": {},
     "output_type": "display_data"
    }
   ],
   "source": [
    "melhores_100 = df_simple.loc[:100,[\"finalWorth\",\"category\",\"country\"]]\n",
    "\n",
    "negocios = melhores_100['category'].value_counts()\n",
    "\n",
    "fig, ax = plt.subplots(figsize=(10, 5))\n",
    "ax.barh(negocios.index,negocios.values, color='#86A3B8')\n",
    "\n",
    "ax.set_title('Categorias mais usada pelos 100 mais ricos')\n",
    "\n",
    "for i in np.arange(0,16):\n",
    "    ax.annotate(negocios.values[i],(negocios.values[i] + 0.1,i), va='center', fontsize=11)\n",
    "    \n",
    "ax.spines['top'].set_visible(False)\n",
    "ax.spines['right'].set_visible(False)\n",
    "ax.spines['bottom'].set_visible(False)\n",
    "ax.xaxis.set_visible(False)\n",
    "\n",
    "ax.invert_yaxis()\n",
    "\n",
    "ax.tick_params(axis='x', rotation=0)\n",
    "\n",
    "plt.show()"
   ]
  },
  {
   "cell_type": "markdown",
   "id": "82061348",
   "metadata": {},
   "source": [
    "### Conclusão\n",
    "Ao observar esses gráficos pode-se perceber a grande diferença entre a distribuição de riquezas entre homens e mulheres que se deve a grande parte dos empresários serem homens, não só isso como vimos que a diferença entre o homem mais rico da lista comparada com a mulher também com o maior capital, podendo ver assim que mesmo os dois sendo os mais ricos do seu gênero tem-se uma diferença tão grande."
   ]
  },
  {
   "cell_type": "code",
   "execution_count": null,
   "id": "fbbde279",
   "metadata": {},
   "outputs": [],
   "source": []
  }
 ],
 "metadata": {
  "kernelspec": {
   "display_name": "Python 3 (ipykernel)",
   "language": "python",
   "name": "python3"
  },
  "language_info": {
   "codemirror_mode": {
    "name": "ipython",
    "version": 3
   },
   "file_extension": ".py",
   "mimetype": "text/x-python",
   "name": "python",
   "nbconvert_exporter": "python",
   "pygments_lexer": "ipython3",
   "version": "3.11.5"
  }
 },
 "nbformat": 4,
 "nbformat_minor": 5
}
